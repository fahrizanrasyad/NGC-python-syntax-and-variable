{
 "cells": [
  {
   "cell_type": "markdown",
   "metadata": {
    "id": "6q8y0SagWvHB"
   },
   "source": [
    "# NGC Python Syntax, Variables and Data Type"
   ]
  },
  {
   "cell_type": "markdown",
   "metadata": {
    "id": "rdHI_4YtYF52"
   },
   "source": [
    "## Task 1"
   ]
  },
  {
   "cell_type": "markdown",
   "metadata": {
    "id": "fZ5211_eWmcm"
   },
   "source": [
    "Given list of customer_id that doing transaction in 1 day:"
   ]
  },
  {
   "cell_type": "code",
   "execution_count": 1,
   "metadata": {
    "id": "_1Y4-OohWpiF"
   },
   "outputs": [],
   "source": [
    "customer_id = ['B818', 'A461', 'A092', 'A082', 'B341', 'A005', 'A092', 'A461',\n",
    "'B219', 'B904', 'A901', 'A083', 'B904', 'A092', 'B341', 'B821',\n",
    "'B341', 'B821', 'B904', 'B818', 'A901', 'A083', 'B818', 'A082',\n",
    "'B219', 'B219', 'A083', 'A901', 'A082', 'B341', 'B341', 'A083',\n",
    "'A082', 'B219', 'B439', 'A461', 'A005', 'A901', 'B341', 'A082',\n",
    "'A083', 'A461', 'A083', 'A901', 'A461', 'A083', 'A082', 'A083',\n",
    "'B341', 'A901', 'A082', 'A461', 'B219', 'A083', 'B818', 'B821',\n",
    "'A092', 'B341', 'A461', 'A092', 'A083', 'B821', 'A092']"
   ]
  },
  {
   "cell_type": "markdown",
   "metadata": {
    "id": "dFXDpr_gW8Mc"
   },
   "source": [
    "How many unique customer_id from above list?"
   ]
  },
  {
   "cell_type": "code",
   "execution_count": 2,
   "metadata": {
    "colab": {
     "base_uri": "https://localhost:8080/"
    },
    "id": "oKT0aXkMW9GA",
    "outputId": "68fe3199-1289-42af-f25f-4bacc5ce48d9"
   },
   "outputs": [
    {
     "name": "stdout",
     "output_type": "stream",
     "text": [
      "['B818', 'A082', 'B341', 'A005', 'A901', 'A083', 'B219', 'B904', 'A092', 'A461', 'B821', 'B439']\n"
     ]
    }
   ],
   "source": [
    "# Unique list\n",
    "res = list(set(customer_id))\n",
    "print(res)"
   ]
  },
  {
   "cell_type": "code",
   "execution_count": 3,
   "metadata": {
    "colab": {
     "base_uri": "https://localhost:8080/"
    },
    "id": "Y8Q0DcnYXDTx",
    "outputId": "07ba83ee-2f71-4d7a-a723-8d7077f044b2"
   },
   "outputs": [
    {
     "name": "stdout",
     "output_type": "stream",
     "text": [
      "12\n"
     ]
    }
   ],
   "source": [
    "# Number of unique number\n",
    "print(len(res))"
   ]
  },
  {
   "cell_type": "markdown",
   "metadata": {
    "id": "AG17tb9aYW0-"
   },
   "source": [
    "## Task 2"
   ]
  },
  {
   "cell_type": "markdown",
   "metadata": {
    "id": "WqSn3e9WYoFR"
   },
   "source": [
    "Given list of:\n",
    "\n",
    "Data = [1, 4, 9, 16, 25, 36, 49,  64, 81, 100]\n",
    "\n",
    "\n",
    "Use indexing so you can get this output:\n",
    "- 16\n",
    "- [36, 49, 64, 81]\n",
    "- [100, 81, 64, 49, 36, 25, 16, 9, 4, 1]\n"
   ]
  },
  {
   "cell_type": "code",
   "execution_count": 4,
   "metadata": {
    "id": "AOAUMK_PXwEm"
   },
   "outputs": [],
   "source": [
    "Data = [1, 4, 9, 16, 25, 36, 49, 64, 81, 100]"
   ]
  },
  {
   "cell_type": "code",
   "execution_count": 5,
   "metadata": {
    "colab": {
     "base_uri": "https://localhost:8080/"
    },
    "id": "5dDAPEr3Y22-",
    "outputId": "df2ac04e-0f20-4475-8a7d-ee728962ca55"
   },
   "outputs": [
    {
     "name": "stdout",
     "output_type": "stream",
     "text": [
      "16\n",
      "16\n"
     ]
    }
   ],
   "source": [
    "# Get 16\n",
    "print(Data[3])\n",
    "print(Data[-7])"
   ]
  },
  {
   "cell_type": "code",
   "execution_count": 6,
   "metadata": {
    "colab": {
     "base_uri": "https://localhost:8080/"
    },
    "id": "ypMg1GpOZ_0-",
    "outputId": "b3e9da49-bf7c-442b-f17d-1bad70fdc0a9"
   },
   "outputs": [
    {
     "name": "stdout",
     "output_type": "stream",
     "text": [
      "[36, 49, 64, 81]\n",
      "[36, 49, 64, 81]\n"
     ]
    }
   ],
   "source": [
    "# Get [36, 49, 64, 81]\n",
    "print(Data[5:9])\n",
    "print(Data[-5:-1])"
   ]
  },
  {
   "cell_type": "code",
   "execution_count": 7,
   "metadata": {
    "colab": {
     "base_uri": "https://localhost:8080/"
    },
    "id": "wMoPOfNfZIwP",
    "outputId": "839e7d4a-aea4-478e-c718-56172d5e0fd1"
   },
   "outputs": [
    {
     "name": "stdout",
     "output_type": "stream",
     "text": [
      "[100, 81, 64, 49, 36, 25, 16, 9, 4, 1]\n"
     ]
    }
   ],
   "source": [
    "# Get reverse list\n",
    "Data.reverse()\n",
    "print(Data)"
   ]
  },
  {
   "cell_type": "markdown",
   "metadata": {
    "id": "NDsBd57yayHZ"
   },
   "source": [
    "## Task 3"
   ]
  },
  {
   "cell_type": "markdown",
   "metadata": {
    "id": "rctQ5jr_a08b"
   },
   "source": [
    "Given a dictionary of:\n",
    "\n",
    "provinsi = {'Nanggroe Aceh Darussalam': 'Aceh',\n",
    "'Sumatera Selatan': 'Palembang',\n",
    "'Kalimantan Barat': 'Pontianak',\n",
    "'Jawa Timur': 'Madiun',\n",
    "'Sulawesi Selatan': 'Makassar',\n",
    "'Maluku': 'Ambon'}\n",
    "\n",
    "What python command can be use to:\n",
    "- Get list of keys available in dictionary\n",
    "- Change 'Jawa Timur' value from 'Madiun'  to 'Surabaya'\n"
   ]
  },
  {
   "cell_type": "code",
   "execution_count": 8,
   "metadata": {
    "id": "A5BjD-LMarGK"
   },
   "outputs": [],
   "source": [
    "provinsi = {\n",
    "  'Nanggroe Aceh Darussalam': 'Aceh',\n",
    "  'Sumatera Selatan': 'Palembang',\n",
    "  'Kalimantan Barat': 'Pontianak',\n",
    "  'Jawa Timur': 'Madiun',\n",
    "  'Sulawesi Selatan': 'Makassar',\n",
    "  'Maluku': 'Ambon'\n",
    "}"
   ]
  },
  {
   "cell_type": "code",
   "execution_count": 9,
   "metadata": {
    "colab": {
     "base_uri": "https://localhost:8080/"
    },
    "id": "dC-9U3HlbrCh",
    "outputId": "0137b021-fd57-4355-9138-10501d6fb65a"
   },
   "outputs": [
    {
     "name": "stdout",
     "output_type": "stream",
     "text": [
      "dict_keys(['Nanggroe Aceh Darussalam', 'Sumatera Selatan', 'Kalimantan Barat', 'Jawa Timur', 'Sulawesi Selatan', 'Maluku'])\n"
     ]
    }
   ],
   "source": [
    "# Get list of keys available in dictionary\n",
    "print(provinsi.keys())"
   ]
  },
  {
   "cell_type": "code",
   "execution_count": 10,
   "metadata": {
    "colab": {
     "base_uri": "https://localhost:8080/"
    },
    "id": "TXfbKKU_b5UQ",
    "outputId": "70910ffd-8b8b-46ac-e98c-677990700bba"
   },
   "outputs": [
    {
     "data": {
      "text/plain": [
       "{'Nanggroe Aceh Darussalam': 'Aceh',\n",
       " 'Sumatera Selatan': 'Palembang',\n",
       " 'Kalimantan Barat': 'Pontianak',\n",
       " 'Jawa Timur': 'Surabaya',\n",
       " 'Sulawesi Selatan': 'Makassar',\n",
       " 'Maluku': 'Ambon'}"
      ]
     },
     "execution_count": 10,
     "metadata": {},
     "output_type": "execute_result"
    }
   ],
   "source": [
    "# Change 'Jawa Timur' value from 'Madiun' to 'Surabaya'\n",
    "provinsi.update({\"Jawa Timur\": 'Surabaya'})\n",
    "provinsi"
   ]
  },
  {
   "cell_type": "code",
   "execution_count": null,
   "metadata": {
    "id": "V0DG_oXGcdLm"
   },
   "outputs": [],
   "source": []
  }
 ],
 "metadata": {
  "colab": {
   "provenance": []
  },
  "kernelspec": {
   "display_name": "Python 3 (ipykernel)",
   "language": "python",
   "name": "python3"
  },
  "language_info": {
   "codemirror_mode": {
    "name": "ipython",
    "version": 3
   },
   "file_extension": ".py",
   "mimetype": "text/x-python",
   "name": "python",
   "nbconvert_exporter": "python",
   "pygments_lexer": "ipython3",
   "version": "3.9.12"
  }
 },
 "nbformat": 4,
 "nbformat_minor": 4
}
